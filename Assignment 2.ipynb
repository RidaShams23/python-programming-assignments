{
 "cells": [
  {
   "cell_type": "code",
   "execution_count": 6,
   "metadata": {},
   "outputs": [
    {
     "name": "stdout",
     "output_type": "stream",
     "text": [
      "Enter marks of the first subject: 85\n",
      "Enter marks of the second subject: 95\n",
      "Enter marks of the third subject: 76\n",
      "Enter marks of the fourth subject: 59\n",
      "Enter marks of the fifth subject: 68\n",
      "Grade: A\n"
     ]
    }
   ],
   "source": [
    "#ASSIGNMENT 2\n",
    "subject1=int(input(\"Enter marks of the first subject: \"))\n",
    "subject2=int(input(\"Enter marks of the second subject: \"))\n",
    "subject3=int(input(\"Enter marks of the third subject: \"))\n",
    "subject4=int(input(\"Enter marks of the fourth subject: \"))\n",
    "subject5=int(input(\"Enter marks of the fifth subject: \"))\n",
    "avg=(subject1+subject2+subject3+subject4+subject4)/5\n",
    "if(avg>=80 and avg<100):\n",
    "    print(\"Grade: A+\")\n",
    "elif(avg>=70 and avg<80):\n",
    "    print(\"Grade: A\")\n",
    "elif(avg>=60 and avg<70):\n",
    "    print(\"Grade: B\")\n",
    "elif(avg>=50 and avg<60):    \n",
    "    print(\"Grade: C\")\n",
    "elif(avg>=45 and avg<50):   \n",
    "    print(\"Grade: D\")\n",
    "else:\n",
    "    print(\"Grade: F\")"
   ]
  },
  {
   "cell_type": "code",
   "execution_count": 2,
   "metadata": {},
   "outputs": [
    {
     "name": "stdout",
     "output_type": "stream",
     "text": [
      "Enter a number: 100044\n",
      "This is an even number.\n"
     ]
    }
   ],
   "source": [
    "number = int(input(\"Enter a number: \"))\n",
    "mod = number % 2\n",
    "if mod > 0:\n",
    "    print(\"This is an odd number.\")\n",
    "else:\n",
    "    print(\"This is an even number.\")"
   ]
  },
  {
   "cell_type": "code",
   "execution_count": 1,
   "metadata": {},
   "outputs": [
    {
     "name": "stdout",
     "output_type": "stream",
     "text": [
      "length of list is 13\n"
     ]
    }
   ],
   "source": [
    "list = [1, 2, 3, 4, 5, 6, 7, 8, 9,10, 11, 12, 99]\n",
    "print(\"length of list is\",len(list))"
   ]
  },
  {
   "cell_type": "code",
   "execution_count": 9,
   "metadata": {},
   "outputs": [
    {
     "name": "stdout",
     "output_type": "stream",
     "text": [
      "Sum of all numeric items in list:  1546\n"
     ]
    }
   ],
   "source": [
    "total = 0\n",
    "list1 = [1, 12, 17, 18, 23, 64, 102, 304, 1005]   \n",
    "for ele in range(0, len(list1)): \n",
    "    total = total + list1[ele]  \n",
    "print(\"Sum of all numeric items in list: \", total) "
   ]
  },
  {
   "cell_type": "code",
   "execution_count": 7,
   "metadata": {},
   "outputs": [
    {
     "name": "stdout",
     "output_type": "stream",
     "text": [
      "Largest element is: 1002\n"
     ]
    }
   ],
   "source": [
    "list = [10, 20, 4, 45, 99, 102, 1, 38, 1002]  \n",
    "list.sort() \n",
    "print(\"Largest element is:\", list[-1]) \n"
   ]
  },
  {
   "cell_type": "code",
   "execution_count": 13,
   "metadata": {},
   "outputs": [
    {
     "name": "stdout",
     "output_type": "stream",
     "text": [
      "1\n",
      "1\n",
      "2\n",
      "4\n",
      "0\n",
      "3\n"
     ]
    }
   ],
   "source": [
    "a = [1, 1, 2, 4, 0, 3, 5, 8, 13, 21, 34, 55, 89]\n",
    "for i in a:\n",
    "    if i < 5:\n",
    "        print(i)"
   ]
  },
  {
   "cell_type": "code",
   "execution_count": null,
   "metadata": {},
   "outputs": [],
   "source": []
  }
 ],
 "metadata": {
  "kernelspec": {
   "display_name": "Python 3",
   "language": "python",
   "name": "python3"
  },
  "language_info": {
   "codemirror_mode": {
    "name": "ipython",
    "version": 3
   },
   "file_extension": ".py",
   "mimetype": "text/x-python",
   "name": "python",
   "nbconvert_exporter": "python",
   "pygments_lexer": "ipython3",
   "version": "3.7.4"
  }
 },
 "nbformat": 4,
 "nbformat_minor": 2
}
